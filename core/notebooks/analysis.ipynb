{
 "cells": [
  {
   "cell_type": "code",
   "id": "b1664b0069b51aea",
   "metadata": {
    "ExecuteTime": {
     "end_time": "2024-10-23T11:12:47.574087Z",
     "start_time": "2024-10-23T11:12:47.334519Z"
    }
   },
   "source": [
    "import re\n",
    "import json\n",
    "import os\n",
    "import sys\n",
    "\n",
    "parent_path = os.path.abspath('..')\n",
    "sys.path.append(parent_path)\n",
    "parent_path = os.path.abspath('../../')\n",
    "sys.path.append(parent_path)\n",
    "parent_path = os.path.abspath('../../../')\n",
    "sys.path.append(parent_path)\n",
    "\n",
    "from core.ShoreNet.conf import get_data_path\n",
    "\n",
    "DATA_PATH = get_data_path()\n",
    "\n",
    "# load .env file\n",
    "project_path = os.path.abspath('../../')\n",
    "dotenv_path = os.path.join(project_path, 'secret', '.env')\n",
    "\n",
    "from dotenv import load_dotenv\n",
    "load_dotenv(dotenv_path)\n",
    "\n",
    "print(os.getenv(\"SISI_DB_TYPE\"))\n",
    "\n",
    "# load project variables\n",
    "from core.ShoreNet.definitions.variables import VariablesManager\n",
    "\n",
    "var = VariablesManager()\n",
    "print(var.data_path)\n"
   ],
   "outputs": [
    {
     "name": "stdout",
     "output_type": "stream",
     "text": [
      "mysql\n",
      "D:\\data\\sisi\\\n"
     ]
    }
   ],
   "execution_count": 1
  },
  {
   "metadata": {
    "ExecuteTime": {
     "end_time": "2024-10-23T11:12:49.666288Z",
     "start_time": "2024-10-23T11:12:47.583491Z"
    }
   },
   "cell_type": "code",
   "source": [
    "# load dock polygons\n",
    "from core.ShoreNet.events.dock import get_dock_polygon\n",
    "\n",
    "dock_polygon_list = get_dock_polygon(var.engine)\n",
    "print(len(dock_polygon_list))"
   ],
   "id": "3ee2214915ab58cd",
   "outputs": [
    {
     "name": "stdout",
     "output_type": "stream",
     "text": [
      "Dock polygon count: 1518\n",
      "1518\n"
     ]
    }
   ],
   "execution_count": 2
  },
  {
   "metadata": {},
   "cell_type": "markdown",
   "source": [
    "# 1 Process Sail Events\n",
    "\n",
    "## 1.1 Cleaning (DBSCAN):\n",
    "\n",
    "1. Load whole events from SQL database\n",
    "2. Clean events with DBSCAN, parameter is {radius: 200m, cluster_min_count: 30}\n",
    "3. Filter noise cluster\n",
    "4. Further filter: If there are less 20 ships and the count of events less than 60, the cluster will also be recognized as noise cluster.\n",
    "5. After the double filter, we get the cleaned events dataframe."
   ],
   "id": "a0fdfcc0b64fb976"
  },
  {
   "metadata": {},
   "cell_type": "markdown",
   "source": "## 1.2 Load Statics Data and Events Data",
   "id": "c9e8b6a179e3bb36"
  },
  {
   "metadata": {
    "ExecuteTime": {
     "end_time": "2024-10-23T11:13:10.215039Z",
     "start_time": "2024-10-23T11:12:49.750076Z"
    }
   },
   "cell_type": "code",
   "source": [
    "import pandas as pd\n",
    "\n",
    "from sqlalchemy import text\n",
    "\n",
    "from core.ShoreNet.events.filter import clean_up_events\n",
    "from core.ShoreNet.statics.filter import clean_up_statics\n",
    "\n",
    "# count all sail logging\n",
    "stop_event_query = f\"\"\"\n",
    "SELECT \n",
    "    mmsi, \n",
    "    Begin_time as begin_time, End_time as end_time, end_time - begin_time as duration, \n",
    "    lng, lat, Point_num as point_num, Event_categories, coal_dock_id\n",
    "FROM \n",
    "    sisi.factor_stop_events t\n",
    "WHERE\n",
    "    t.avgSpeed < 1\n",
    "\"\"\"\n",
    "\n",
    "coal_static_query = f\"\"\"\n",
    "SELECT\n",
    "    mmsi, shipname, shiptype, length, breadth, DWT_float as dwt\n",
    "FROM\n",
    "    sisi.dim_ships_statics\n",
    "\"\"\"\n",
    "\n",
    "events_df = pd.read_sql(\n",
    "    sql=text(stop_event_query), con=var.engine\n",
    ")\n",
    "\n",
    "statics_df = pd.read_sql(\n",
    "    sql=text(coal_static_query), con=var.engine\n",
    ")\n",
    "statics_df = clean_up_statics(statics_df)\n",
    "\n",
    "events_df = clean_up_events(\n",
    "    df=events_df,\n",
    "    var=var\n",
    "    # mmsi_enum_list=statics_df['mmsi'].tolist()\n",
    ")"
   ],
   "id": "e163eb69cf0bc995",
   "outputs": [
    {
     "name": "stdout",
     "output_type": "stream",
     "text": [
      "original event data shape: (1202751, 9)\n",
      "cleaned event data shape: (108661, 9)\n"
     ]
    }
   ],
   "execution_count": 3
  },
  {
   "metadata": {},
   "cell_type": "markdown",
   "source": "## 1.3 DBSCAN Clustering for Events",
   "id": "23d4c46ddd5bb967"
  },
  {
   "metadata": {
    "ExecuteTime": {
     "end_time": "2024-10-23T11:13:13.012539Z",
     "start_time": "2024-10-23T11:13:10.308675Z"
    }
   },
   "cell_type": "code",
   "source": [
    "from core.ShoreNet.events.dock import cluster_dock_polygon_dbscan\n",
    "\n",
    "dbscan_res = cluster_dock_polygon_dbscan(\n",
    "    events_df=events_df,\n",
    "    var=var\n",
    ")\n",
    "print(dbscan_res)"
   ],
   "id": "9709f781447d912b",
   "outputs": [
    {
     "name": "stdout",
     "output_type": "stream",
     "text": [
      "[ 0  0  0 ...  2 -1 -1]\n"
     ]
    }
   ],
   "execution_count": 4
  }
 ],
 "metadata": {
  "kernelspec": {
   "display_name": "Python 3 (ipykernel)",
   "language": "python",
   "name": "python3"
  },
  "language_info": {
   "codemirror_mode": {
    "name": "ipython",
    "version": 3
   },
   "file_extension": ".py",
   "mimetype": "text/x-python",
   "name": "python",
   "nbconvert_exporter": "python",
   "pygments_lexer": "ipython3",
   "version": "3.11.9"
  }
 },
 "nbformat": 4,
 "nbformat_minor": 5
}
