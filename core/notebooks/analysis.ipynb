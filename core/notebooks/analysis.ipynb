{
 "cells": [
  {
   "cell_type": "code",
   "execution_count": 1,
   "id": "b1664b0069b51aea",
   "metadata": {
    "ExecuteTime": {
     "end_time": "2024-11-15T14:06:58.979011Z",
     "start_time": "2024-11-15T14:06:58.646497Z"
    }
   },
   "outputs": [
    {
     "name": "stdout",
     "output_type": "stream",
     "text": [
      "/home/jerry/codebase/sisi/core\n",
      "/home/jerry/codebase/sisi\n",
      "/home/jerry/codebase\n",
      "mysql\n",
      "/mnt/d/data/sisi\n"
     ]
    }
   ],
   "source": [
    "import re\n",
    "import json\n",
    "import os\n",
    "import sys\n",
    "\n",
    "parent_path = os.path.abspath('..')\n",
    "sys.path.append(parent_path)\n",
    "print(parent_path)\n",
    "parent_path = os.path.abspath('../../')\n",
    "sys.path.append(parent_path)\n",
    "print(parent_path)\n",
    "parent_path = os.path.abspath('../../../')\n",
    "sys.path.append(parent_path)\n",
    "print(parent_path)\n",
    "\n",
    "from dotenv import load_dotenv\n",
    "\n",
    "# load .env file\n",
    "project_path = os.path.abspath('../../')\n",
    "dotenv_path = os.path.join(project_path, '.env')\n",
    "\n",
    "from dotenv import load_dotenv\n",
    "load_dotenv(dotenv_path)\n",
    "\n",
    "print(os.getenv(\"SISI_DB_TYPE\"))\n",
    "\n",
    "# load project variables\n",
    "from core.ShoreNet.definitions.variables import VariablesManager\n",
    "\n",
    "var = VariablesManager(stage_env)\n",
    "print(var.data_path)\n"
   ]
  },
  {
   "cell_type": "code",
   "execution_count": 17,
   "id": "3ee2214915ab58cd",
   "metadata": {
    "ExecuteTime": {
     "end_time": "2024-11-15T14:06:59.711103Z",
     "start_time": "2024-11-15T14:06:58.979011Z"
    }
   },
   "outputs": [
    {
     "name": "stdout",
     "output_type": "stream",
     "text": [
      "1518 <class 'pandas.core.frame.DataFrame'>\n"
     ]
    }
   ],
   "source": [
    "# load dock polygons\n",
    "from core.ShoreNet.events.generic.tools import load_dock_polygon\n",
    "\n",
    "dock_polygon_df = load_dock_polygon(var.engine)\n",
    "print(len(dock_polygon_df), type(dock_polygon_df))"
   ]
  },
  {
   "cell_type": "code",
   "execution_count": 3,
   "id": "e163eb69cf0bc995",
   "metadata": {
    "ExecuteTime": {
     "end_time": "2024-11-15T14:10:00.287450Z",
     "start_time": "2024-11-15T14:07:00.006673Z"
    }
   },
   "outputs": [
    {
     "name": "stdout",
     "output_type": "stream",
     "text": [
      "(11935, 7)\n",
      "original event data shape: (13642667, 9)\n",
      "cleaned event data shape: (458276, 9)\n"
     ]
    }
   ],
   "source": [
    "import pandas as pd\n",
    "\n",
    "from sqlalchemy import text\n",
    "\n",
    "from core.ShoreNet.events.filter import clean_up_events\n",
    "from core.ShoreNet.statics.filter import clean_up_statics\n",
    "from core.ShoreNet.definitions.parameters import TableNames as tbn\n",
    "\n",
    "# count all sail logging\n",
    "stop_event_query = f\"\"\"\n",
    "SELECT \n",
    "    mmsi, \n",
    "    begin_time, end_time, end_time - begin_time as duration, \n",
    "    begin_lng, begin_lat, point_num, event_categories, coal_dock_id\n",
    "FROM \n",
    "    sisi.{tbn.all_stop_events_table_name} t\n",
    "WHERE\n",
    "    t.avg_speed < 1\n",
    "\"\"\"\n",
    "\n",
    "coal_static_query = f\"\"\"\n",
    "SELECT\n",
    "    mmsi, ship_name, ship_type, length, width, dwt\n",
    "FROM\n",
    "    sisi.{tbn.dim_ships_statics_table_name}\n",
    "\"\"\"\n",
    "\n",
    "events_df = pd.read_sql(\n",
    "    sql=text(stop_event_query), con=var.engine\n",
    ")\n",
    "\n",
    "statics_df = pd.read_sql(\n",
    "    sql=text(coal_static_query), con=var.engine\n",
    ")\n",
    "statics_df = clean_up_statics(statics_df)\n",
    "print(statics_df.shape)\n",
    "\n",
    "events_df = clean_up_events(\n",
    "    df=events_df,\n",
    "    var=var,\n",
    "    mmsi_enum_list=statics_df['mmsi'].tolist()\n",
    ")"
   ]
  },
  {
   "cell_type": "code",
   "execution_count": null,
   "id": "9709f781447d912b",
   "metadata": {
    "ExecuteTime": {
     "end_time": "2024-11-15T14:10:01.840194Z",
     "start_time": "2024-11-15T14:10:00.301690Z"
    }
   },
   "outputs": [
    {
     "name": "stdout",
     "output_type": "stream",
     "text": [
      "events cluster count : 116\n",
      "(150442, 10) (15457, 10) (165899, 10)\n",
      "Event with polygon percentage is 90.68288537001429 %\n"
     ]
    }
   ],
   "source": [
    "from core.ShoreNet.events.dock import cluster_dock_polygon_dbscan\n",
    "\n",
    "# find events without polygon and \n",
    "# dbscan cluster them\n",
    "cleaned_evnet_df = cluster_dock_polygon_dbscan(\n",
    "    events_df=events_df, vars=var\n",
    ")\n",
    "\n",
    "# dbscan cluster result\n",
    "print(f\"events cluster count : {cleaned_evnet_df['cluster'].nunique()}\")\n",
    "\n",
    "with_polygon_dbscan_df = cleaned_evnet_df.loc[~cleaned_evnet_df['coal_dock_id'].isna()]\n",
    "without_polygon_dbscan_df = cleaned_evnet_df.loc[cleaned_evnet_df['coal_dock_id'].isna()]\n",
    "print(with_polygon_dbscan_df.shape, without_polygon_dbscan_df.shape, cleaned_evnet_df.shape)\n",
    "print(f\"Event with polygon percentage is {100 * with_polygon_dbscan_df.shape[0] / cleaned_evnet_df.shape[0]} %\")"
   ]
  },
  {
   "cell_type": "code",
   "execution_count": 15,
   "id": "ae88e5d7",
   "metadata": {},
   "outputs": [
    {
     "name": "stdout",
     "output_type": "stream",
     "text": [
      "beilun mmsi cnt: 10\n",
      "caofeidian mmsi cnt: 158\n"
     ]
    },
    {
     "data": {
      "text/html": [
       "<div>\n",
       "<style scoped>\n",
       "    .dataframe tbody tr th:only-of-type {\n",
       "        vertical-align: middle;\n",
       "    }\n",
       "\n",
       "    .dataframe tbody tr th {\n",
       "        vertical-align: top;\n",
       "    }\n",
       "\n",
       "    .dataframe thead th {\n",
       "        text-align: right;\n",
       "    }\n",
       "</style>\n",
       "<table border=\"1\" class=\"dataframe\">\n",
       "  <thead>\n",
       "    <tr style=\"text-align: right;\">\n",
       "      <th></th>\n",
       "      <th>船名</th>\n",
       "      <th>mmsi</th>\n",
       "      <th>船舶识别号</th>\n",
       "      <th>上一港</th>\n",
       "      <th>下一港</th>\n",
       "      <th>泊位名称</th>\n",
       "      <th>报告时间</th>\n",
       "      <th>进/出港</th>\n",
       "      <th>前吃水</th>\n",
       "      <th>后吃水</th>\n",
       "      <th>货物种类</th>\n",
       "      <th>货运量</th>\n",
       "    </tr>\n",
       "  </thead>\n",
       "  <tbody>\n",
       "    <tr>\n",
       "      <th>0</th>\n",
       "      <td>北仑5</td>\n",
       "      <td>412439190</td>\n",
       "      <td>CN20053162500</td>\n",
       "      <td>京唐</td>\n",
       "      <td>NaN</td>\n",
       "      <td>宁波舟山港北仑港区北司宁钢7#泊位</td>\n",
       "      <td>2023-12-01 07:34:05</td>\n",
       "      <td>进港</td>\n",
       "      <td>6.8</td>\n",
       "      <td>7.0</td>\n",
       "      <td>煤炭</td>\n",
       "      <td>9859</td>\n",
       "    </tr>\n",
       "    <tr>\n",
       "      <th>1</th>\n",
       "      <td>北仑5</td>\n",
       "      <td>412439190</td>\n",
       "      <td>CN20053162500</td>\n",
       "      <td>NaN</td>\n",
       "      <td>宁波</td>\n",
       "      <td>宁波舟山港北仑港区北司宁钢7#泊位</td>\n",
       "      <td>2023-12-02 09:34:45</td>\n",
       "      <td>出港</td>\n",
       "      <td>1.8</td>\n",
       "      <td>4.6</td>\n",
       "      <td>煤炭</td>\n",
       "      <td>0</td>\n",
       "    </tr>\n",
       "    <tr>\n",
       "      <th>2</th>\n",
       "      <td>北仑7</td>\n",
       "      <td>413416630</td>\n",
       "      <td>CN20079704377</td>\n",
       "      <td>日照</td>\n",
       "      <td>NaN</td>\n",
       "      <td>宁波舟山港北仑港区北司宁钢7#泊位</td>\n",
       "      <td>2023-12-02 14:38:41</td>\n",
       "      <td>进港</td>\n",
       "      <td>6.4</td>\n",
       "      <td>6.6</td>\n",
       "      <td>煤炭</td>\n",
       "      <td>9625</td>\n",
       "    </tr>\n",
       "    <tr>\n",
       "      <th>3</th>\n",
       "      <td>北仑7</td>\n",
       "      <td>413416630</td>\n",
       "      <td>CN20079704377</td>\n",
       "      <td>NaN</td>\n",
       "      <td>日照</td>\n",
       "      <td>宁波舟山港北仑港区北司宁钢7#泊位</td>\n",
       "      <td>2023-12-04 11:22:16</td>\n",
       "      <td>出港</td>\n",
       "      <td>2.5</td>\n",
       "      <td>5.1</td>\n",
       "      <td>煤炭</td>\n",
       "      <td>0</td>\n",
       "    </tr>\n",
       "    <tr>\n",
       "      <th>4</th>\n",
       "      <td>富兴22</td>\n",
       "      <td>414074000</td>\n",
       "      <td>CN20104564491</td>\n",
       "      <td>日照</td>\n",
       "      <td>NaN</td>\n",
       "      <td>宁波舟山港北仑港区北电码头2#泊位</td>\n",
       "      <td>2023-12-05 21:46:07</td>\n",
       "      <td>进港</td>\n",
       "      <td>12.7</td>\n",
       "      <td>12.7</td>\n",
       "      <td>煤炭</td>\n",
       "      <td>53745</td>\n",
       "    </tr>\n",
       "  </tbody>\n",
       "</table>\n",
       "</div>"
      ],
      "text/plain": [
       "     船名       mmsi          船舶识别号  上一港  下一港               泊位名称  \\\n",
       "0   北仑5  412439190  CN20053162500   京唐  NaN  宁波舟山港北仑港区北司宁钢7#泊位   \n",
       "1   北仑5  412439190  CN20053162500  NaN   宁波  宁波舟山港北仑港区北司宁钢7#泊位   \n",
       "2   北仑7  413416630  CN20079704377   日照  NaN  宁波舟山港北仑港区北司宁钢7#泊位   \n",
       "3   北仑7  413416630  CN20079704377  NaN   日照  宁波舟山港北仑港区北司宁钢7#泊位   \n",
       "4  富兴22  414074000  CN20104564491   日照  NaN  宁波舟山港北仑港区北电码头2#泊位   \n",
       "\n",
       "                 报告时间 进/出港   前吃水   后吃水 货物种类    货运量  \n",
       "0 2023-12-01 07:34:05   进港   6.8   7.0   煤炭   9859  \n",
       "1 2023-12-02 09:34:45   出港   1.8   4.6   煤炭      0  \n",
       "2 2023-12-02 14:38:41   进港   6.4   6.6   煤炭   9625  \n",
       "3 2023-12-04 11:22:16   出港   2.5   5.1   煤炭      0  \n",
       "4 2023-12-05 21:46:07   进港  12.7  12.7   煤炭  53745  "
      ]
     },
     "execution_count": 15,
     "metadata": {},
     "output_type": "execute_result"
    }
   ],
   "source": [
    "# load beijing demo data\n",
    "beilun_df = pd.read_excel(\"/home/jerry/codebase/sisi/data/beijing_demo_data.xlsx\", sheet_name=\"北仑港区\")\n",
    "caofeidian_df = pd.read_excel(\"/home/jerry/codebase/sisi/data/beijing_demo_data.xlsx\", sheet_name=\"曹妃甸港区\")\n",
    "print(f\"beilun mmsi cnt: {beilun_df['mmsi'].nunique()}\")\n",
    "print(f\"caofeidian mmsi cnt: {caofeidian_df['mmsi'].nunique()}\")\n",
    "beilun_df.head()"
   ]
  },
  {
   "cell_type": "code",
   "execution_count": 72,
   "id": "0534e095",
   "metadata": {},
   "outputs": [
    {
     "name": "stderr",
     "output_type": "stream",
     "text": [
      "100%|██████████| 158/158 [01:05<00:00,  2.41it/s]"
     ]
    },
    {
     "name": "stdout",
     "output_type": "stream",
     "text": [
      "per -> 29 / 158\n",
      "observe per -> 29 / 62\n"
     ]
    },
    {
     "name": "stderr",
     "output_type": "stream",
     "text": [
      "\n"
     ]
    }
   ],
   "source": [
    "from tqdm import tqdm\n",
    "\n",
    "def match_dock_details(dock_id, con):\n",
    "    df = pd.read_sql(\n",
    "        sql=f\"\"\"\n",
    "        SELECT\n",
    "            Id as dock_id,\n",
    "            Name as name,\n",
    "            Province as province,\n",
    "            Distruct as distruct\n",
    "        FROM\n",
    "            sisi.dim_dock_polygon\n",
    "        WHERE\n",
    "            Id = {dock_id} \n",
    "        \"\"\",\n",
    "        con=con\n",
    "    )\n",
    "    if df.shape[0] > 0:\n",
    "        return df.iloc[0]\n",
    "    else:\n",
    "        return None\n",
    "\n",
    "start_ts = 1698595200\n",
    "\n",
    "cfd_appearing_cnt = 0\n",
    "observe_mmsi_cnt = 0\n",
    "observe_mmsi_ls = caofeidian_df[\"mmsi\"].unique().tolist()\n",
    "unobserve_mmsi_ls = []\n",
    "mmsi_sailing_chain_dict = {}\n",
    "for _mmsi in tqdm(observe_mmsi_ls):\n",
    "    # obverse_df = caofeidian_df.loc[beilun_df[\"mmsi\"]==_mmsi]\n",
    "    \n",
    "    # load mmsi od pairs from mysql\n",
    "    _mmsi_pair_df = pd.read_sql(\n",
    "        sql=f\"\"\"\n",
    "        SELECT \n",
    "            departure_dock_id, arrival_dock_id \n",
    "        FROM sisi.data_od_pairs \n",
    "        WHERE \n",
    "            mmsi = {_mmsi}\n",
    "            AND arrival_time > {start_ts}\n",
    "        \"\"\",\n",
    "        con=var.engine\n",
    "    )\n",
    "    if _mmsi_pair_df.shape[0] == 0:\n",
    "        unobserve_mmsi_ls.append(_mmsi)\n",
    "        continue\n",
    "    \n",
    "    # print(f\"mmsi -> {_mmsi}, od pairs cnt -> {_mmsi_pair_df.shape[0]}\")\n",
    "    distruct_ls = []\n",
    "    direction_symbol = \" ==> \"\n",
    "    for _, row in _mmsi_pair_df.iterrows():\n",
    "        departure_dock_details = match_dock_details(row[\"departure_dock_id\"], var.engine)\n",
    "        arrival_dock_details = match_dock_details(row[\"arrival_dock_id\"], var.engine)\n",
    "        departure_region_str = f\"{departure_dock_details['province']}-{departure_dock_details['distruct']}\"\n",
    "        arrvial_region_str = f\"{arrival_dock_details['province']}-{arrival_dock_details['distruct']}\"\n",
    "        distruct_ls.append(f\"{departure_region_str}{direction_symbol}{arrvial_region_str}\")\n",
    "\n",
    "    sailing_chain = direction_symbol.join(distruct_ls)\n",
    "    mmsi_sailing_chain_dict[_mmsi] = sailing_chain\n",
    "    if \"曹妃甸\" in sailing_chain:\n",
    "        cfd_appearing_cnt += 1\n",
    "        \n",
    "    observe_mmsi_cnt += 1\n",
    "\n",
    "print(f\"per -> {cfd_appearing_cnt} / {len(caofeidian_df['mmsi'].unique().tolist())}\")\n",
    "print(f\"observe per -> {cfd_appearing_cnt} / {observe_mmsi_cnt}\")\n",
    "    "
   ]
  },
  {
   "cell_type": "code",
   "execution_count": 79,
   "id": "da56a575",
   "metadata": {},
   "outputs": [
    {
     "name": "stdout",
     "output_type": "stream",
     "text": [
      "413345750\n",
      "414640000\n",
      "412473010\n",
      "414006000\n",
      "413130000\n",
      "414402620\n",
      "413448950\n",
      "414557000\n",
      "414847000\n",
      "413415250\n"
     ]
    },
    {
     "data": {
      "text/plain": [
       "(96, 50, 3, 33)"
      ]
     },
     "execution_count": 79,
     "metadata": {},
     "output_type": "execute_result"
    }
   ],
   "source": [
    "from pprint import pprint\n",
    "\n",
    "def match_static_details(mmsi, con):\n",
    "    df = pd.read_sql(\n",
    "        sql=f\"\"\"select * from sisi.dim_ships_statics where mmsi = {mmsi}\"\"\",\n",
    "        con=con\n",
    "    )\n",
    "    return df\n",
    "\n",
    "\n",
    "def match_event_details(mmsi, con):\n",
    "    df = pd.read_sql(\n",
    "        sql=f\"\"\"select * from sisi.factor_all_stop_events where mmsi = {mmsi} and begin_time > {start_ts}\"\"\",\n",
    "        con=con\n",
    "    )\n",
    "    return df\n",
    "\n",
    "lack_static_mmsi_ls = []\n",
    "lack_events_mmsi_ls = []\n",
    "lack_dock_id_mmsi_ls = []\n",
    "for _mmsi in unobserve_mmsi_ls:\n",
    "    _mmsi_static_details = match_static_details(_mmsi, var.engine)\n",
    "    if _mmsi_static_details.shape[0] == 0:\n",
    "        lack_static_mmsi_ls.append(_mmsi)\n",
    "        continue\n",
    "    \n",
    "    # check if dock_id is NULL in event table\n",
    "    _mmsi_event_details = match_event_details(_mmsi, var.engine)\n",
    "    if _mmsi_event_details.shape[0] == 0:\n",
    "        lack_events_mmsi_ls.append(_mmsi)\n",
    "        continue\n",
    "    \n",
    "    coal_dock_id_na_ls = _mmsi_event_details.loc[_mmsi_event_details[\"coal_dock_id\"].isna()][\"coal_dock_id\"].tolist()\n",
    "    if len(coal_dock_id_na_ls) == _mmsi_event_details.shape[0]:\n",
    "        lack_dock_id_mmsi_ls.append(_mmsi)\n",
    "        continue\n",
    "    \n",
    "    print(_mmsi)\n",
    "    \n",
    "len(unobserve_mmsi_ls), len(lack_static_mmsi_ls), len(lack_events_mmsi_ls), len(lack_dock_id_mmsi_ls)"
   ]
  }
 ],
 "metadata": {
  "kernelspec": {
   "display_name": "sisi",
   "language": "python",
   "name": "python3"
  },
  "language_info": {
   "codemirror_mode": {
    "name": "ipython",
    "version": 3
   },
   "file_extension": ".py",
   "mimetype": "text/x-python",
   "name": "python",
   "nbconvert_exporter": "python",
   "pygments_lexer": "ipython3",
   "version": "3.11.11"
  }
 },
 "nbformat": 4,
 "nbformat_minor": 5
}
