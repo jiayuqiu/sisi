{
 "cells": [
  {
   "cell_type": "code",
   "id": "b1664b0069b51aea",
   "metadata": {
    "ExecuteTime": {
     "end_time": "2024-11-10T05:06:39.768038Z",
     "start_time": "2024-11-10T05:06:39.565338Z"
    }
   },
   "source": [
    "import re\n",
    "import json\n",
    "import os\n",
    "import sys\n",
    "\n",
    "parent_path = os.path.abspath('..')\n",
    "sys.path.append(parent_path)\n",
    "parent_path = os.path.abspath('../../')\n",
    "sys.path.append(parent_path)\n",
    "parent_path = os.path.abspath('../../../')\n",
    "sys.path.append(parent_path)\n",
    "\n",
    "from core.ShoreNet.conf import get_data_path\n",
    "\n",
    "DATA_PATH = get_data_path()\n",
    "\n",
    "# load .env file\n",
    "project_path = os.path.abspath('../../')\n",
    "dotenv_path = os.path.join(project_path, 'secret', '.env')\n",
    "\n",
    "from dotenv import load_dotenv\n",
    "load_dotenv(dotenv_path)\n",
    "\n",
    "print(os.getenv(\"SISI_DB_TYPE\"))\n",
    "\n",
    "# load project variables\n",
    "from core.ShoreNet.definitions.variables import VariablesManager\n",
    "\n",
    "var = VariablesManager()\n",
    "print(var.data_path)\n"
   ],
   "outputs": [
    {
     "name": "stdout",
     "output_type": "stream",
     "text": [
      "mysql\n",
      "D:\\data\\sisi\\\n"
     ]
    }
   ],
   "execution_count": 1
  },
  {
   "metadata": {
    "ExecuteTime": {
     "end_time": "2024-11-10T05:06:40.572410Z",
     "start_time": "2024-11-10T05:06:39.776132Z"
    }
   },
   "cell_type": "code",
   "source": [
    "# load dock polygons\n",
    "from core.ShoreNet.events.generic.tools import load_dock_polygon\n",
    "\n",
    "dock_polygon_list = load_dock_polygon(var.engine)\n",
    "print(len(dock_polygon_list))"
   ],
   "id": "3ee2214915ab58cd",
   "outputs": [
    {
     "name": "stdout",
     "output_type": "stream",
     "text": [
      "1518\n"
     ]
    }
   ],
   "execution_count": 2
  },
  {
   "metadata": {
    "ExecuteTime": {
     "end_time": "2024-11-10T05:09:29.442785Z",
     "start_time": "2024-11-10T05:06:40.649060Z"
    }
   },
   "cell_type": "code",
   "source": [
    "import pandas as pd\n",
    "\n",
    "from sqlalchemy import text\n",
    "\n",
    "from core.ShoreNet.events.filter import clean_up_events\n",
    "from core.ShoreNet.statics.filter import clean_up_statics\n",
    "from core.ShoreNet.definitions.parameters import TableNames as tbn\n",
    "\n",
    "# count all sail logging\n",
    "stop_event_query = f\"\"\"\n",
    "SELECT \n",
    "    mmsi, \n",
    "    begin_time, end_time, end_time - begin_time as duration, \n",
    "    begin_lng, begin_lat, point_num, event_categories, coal_dock_id\n",
    "FROM \n",
    "    sisi.{tbn.all_stop_events_table_name} t\n",
    "WHERE\n",
    "    t.avg_speed < 1\n",
    "\"\"\"\n",
    "\n",
    "coal_static_query = f\"\"\"\n",
    "SELECT\n",
    "    mmsi, ship_name, ship_type, length, width, dwt\n",
    "FROM\n",
    "    sisi.{tbn.dim_ships_statics_table_name}\n",
    "\"\"\"\n",
    "\n",
    "events_df = pd.read_sql(\n",
    "    sql=text(stop_event_query), con=var.engine\n",
    ")\n",
    "\n",
    "statics_df = pd.read_sql(\n",
    "    sql=text(coal_static_query), con=var.engine\n",
    ")\n",
    "statics_df = clean_up_statics(statics_df)\n",
    "print(statics_df.shape)\n",
    "\n",
    "events_df = clean_up_events(\n",
    "    df=events_df,\n",
    "    var=var,\n",
    "    mmsi_enum_list=statics_df['mmsi'].tolist()\n",
    ")"
   ],
   "id": "e163eb69cf0bc995",
   "outputs": [
    {
     "name": "stdout",
     "output_type": "stream",
     "text": [
      "(11935, 7)\n",
      "original event data shape: (13642667, 9)\n",
      "cleaned event data shape: (24909, 9)\n"
     ]
    }
   ],
   "execution_count": 3
  },
  {
   "metadata": {
    "ExecuteTime": {
     "end_time": "2024-11-10T05:09:30.501832Z",
     "start_time": "2024-11-10T05:09:29.459862Z"
    }
   },
   "cell_type": "code",
   "source": [
    "from core.ShoreNet.events.dock import cluster_dock_polygon_dbscan\n",
    "\n",
    "# find events without polygon and \n",
    "# dbscan cluster them\n",
    "cleaned_evnet_df = cluster_dock_polygon_dbscan(\n",
    "    events_df=events_df, var=var\n",
    ")\n",
    "\n",
    "# dbscan cluster result\n",
    "print(f\"events cluster count : {cleaned_evnet_df['cluster'].nunique()}\")\n",
    "\n",
    "with_polygon_dbscan_df = cleaned_evnet_df.loc[~cleaned_evnet_df['coal_dock_id'].isna()]\n",
    "without_polygon_dbscan_df = cleaned_evnet_df.loc[cleaned_evnet_df['coal_dock_id'].isna()]\n",
    "print(with_polygon_dbscan_df.shape, without_polygon_dbscan_df.shape, cleaned_evnet_df.shape)\n",
    "print(f\"Event with polygon percentage is {100 * with_polygon_dbscan_df.shape[0] / cleaned_evnet_df.shape[0]} %\")"
   ],
   "id": "9709f781447d912b",
   "outputs": [
    {
     "name": "stdout",
     "output_type": "stream",
     "text": [
      "events cluster count : 5\n",
      "(3131, 10) (9, 10) (3140, 10)\n",
      "Event with polygon percentage is 99.71337579617834 %\n"
     ]
    }
   ],
   "execution_count": 4
  }
 ],
 "metadata": {
  "kernelspec": {
   "display_name": "Python 3 (ipykernel)",
   "language": "python",
   "name": "python3"
  },
  "language_info": {
   "codemirror_mode": {
    "name": "ipython",
    "version": 3
   },
   "file_extension": ".py",
   "mimetype": "text/x-python",
   "name": "python",
   "nbconvert_exporter": "python",
   "pygments_lexer": "ipython3",
   "version": "3.11.9"
  }
 },
 "nbformat": 4,
 "nbformat_minor": 5
}
