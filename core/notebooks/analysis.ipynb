{
 "cells": [
  {
   "cell_type": "code",
   "id": "b1664b0069b51aea",
   "metadata": {
    "ExecuteTime": {
     "end_time": "2024-11-15T14:06:58.979011Z",
     "start_time": "2024-11-15T14:06:58.646497Z"
    }
   },
   "source": [
    "import re\n",
    "import json\n",
    "import os\n",
    "import sys\n",
    "\n",
    "parent_path = os.path.abspath('..')\n",
    "sys.path.append(parent_path)\n",
    "parent_path = os.path.abspath('../../')\n",
    "sys.path.append(parent_path)\n",
    "parent_path = os.path.abspath('../../../')\n",
    "sys.path.append(parent_path)\n",
    "\n",
    "from core.ShoreNet.conf import get_data_path\n",
    "\n",
    "DATA_PATH = get_data_path()\n",
    "\n",
    "# load .env file\n",
    "project_path = os.path.abspath('../../')\n",
    "dotenv_path = os.path.join(project_path, 'secret', '.env')\n",
    "\n",
    "from dotenv import load_dotenv\n",
    "load_dotenv(dotenv_path)\n",
    "\n",
    "print(os.getenv(\"SISI_DB_TYPE\"))\n",
    "\n",
    "# load project variables\n",
    "from core.ShoreNet.definitions.variables import VariablesManager\n",
    "\n",
    "var = VariablesManager()\n",
    "print(var.data_path)\n"
   ],
   "outputs": [
    {
     "name": "stdout",
     "output_type": "stream",
     "text": [
      "mysql\n",
      "dict_items([('ship_statics_path', 'D:\\\\data\\\\sisi\\\\statics'), ('output_path', 'output'), ('test_analyze_source_data_path', 'tests\\\\shared_data\\\\analyze\\\\source'), ('test_analyze_result_data_path', 'tests\\\\shared_data\\\\analyze\\\\result')])\n",
      "D:\\data\\sisi\\\n"
     ]
    }
   ],
   "execution_count": 1
  },
  {
   "metadata": {
    "ExecuteTime": {
     "end_time": "2024-11-15T14:06:59.711103Z",
     "start_time": "2024-11-15T14:06:58.979011Z"
    }
   },
   "cell_type": "code",
   "source": [
    "# load dock polygons\n",
    "from core.ShoreNet.events.generic.tools import load_dock_polygon\n",
    "\n",
    "dock_polygon_list = load_dock_polygon(var.engine)\n",
    "print(len(dock_polygon_list))"
   ],
   "id": "3ee2214915ab58cd",
   "outputs": [
    {
     "name": "stdout",
     "output_type": "stream",
     "text": [
      "1518\n"
     ]
    }
   ],
   "execution_count": 2
  },
  {
   "metadata": {
    "ExecuteTime": {
     "end_time": "2024-11-15T14:10:00.287450Z",
     "start_time": "2024-11-15T14:07:00.006673Z"
    }
   },
   "cell_type": "code",
   "source": [
    "import pandas as pd\n",
    "\n",
    "from sqlalchemy import text\n",
    "\n",
    "from core.ShoreNet.events.filter import clean_up_events\n",
    "from core.ShoreNet.statics.filter import clean_up_statics\n",
    "from core.ShoreNet.definitions.parameters import TableNames as tbn\n",
    "\n",
    "# count all sail logging\n",
    "stop_event_query = f\"\"\"\n",
    "SELECT \n",
    "    mmsi, \n",
    "    begin_time, end_time, end_time - begin_time as duration, \n",
    "    begin_lng, begin_lat, point_num, event_categories, coal_dock_id\n",
    "FROM \n",
    "    sisi.{tbn.all_stop_events_table_name} t\n",
    "WHERE\n",
    "    t.avg_speed < 1\n",
    "\"\"\"\n",
    "\n",
    "coal_static_query = f\"\"\"\n",
    "SELECT\n",
    "    mmsi, ship_name, ship_type, length, width, dwt\n",
    "FROM\n",
    "    sisi.{tbn.dim_ships_statics_table_name}\n",
    "\"\"\"\n",
    "\n",
    "events_df = pd.read_sql(\n",
    "    sql=text(stop_event_query), con=var.engine\n",
    ")\n",
    "\n",
    "statics_df = pd.read_sql(\n",
    "    sql=text(coal_static_query), con=var.engine\n",
    ")\n",
    "statics_df = clean_up_statics(statics_df)\n",
    "print(statics_df.shape)\n",
    "\n",
    "events_df = clean_up_events(\n",
    "    df=events_df,\n",
    "    var=var,\n",
    "    mmsi_enum_list=statics_df['mmsi'].tolist()\n",
    ")"
   ],
   "id": "e163eb69cf0bc995",
   "outputs": [
    {
     "name": "stdout",
     "output_type": "stream",
     "text": [
      "(11935, 7)\n",
      "original event data shape: (13642667, 9)\n",
      "cleaned event data shape: (24909, 9)\n"
     ]
    }
   ],
   "execution_count": 3
  },
  {
   "metadata": {
    "ExecuteTime": {
     "end_time": "2024-11-15T14:10:01.840194Z",
     "start_time": "2024-11-15T14:10:00.301690Z"
    }
   },
   "cell_type": "code",
   "source": [
    "from core.ShoreNet.events.dock import cluster_dock_polygon_dbscan\n",
    "\n",
    "# find events without polygon and \n",
    "# dbscan cluster them\n",
    "cleaned_evnet_df = cluster_dock_polygon_dbscan(\n",
    "    events_df=events_df, var=var\n",
    ")\n",
    "\n",
    "# dbscan cluster result\n",
    "print(f\"events cluster count : {cleaned_evnet_df['cluster'].nunique()}\")\n",
    "\n",
    "with_polygon_dbscan_df = cleaned_evnet_df.loc[~cleaned_evnet_df['coal_dock_id'].isna()]\n",
    "without_polygon_dbscan_df = cleaned_evnet_df.loc[cleaned_evnet_df['coal_dock_id'].isna()]\n",
    "print(with_polygon_dbscan_df.shape, without_polygon_dbscan_df.shape, cleaned_evnet_df.shape)\n",
    "print(f\"Event with polygon percentage is {100 * with_polygon_dbscan_df.shape[0] / cleaned_evnet_df.shape[0]} %\")"
   ],
   "id": "9709f781447d912b",
   "outputs": [
    {
     "name": "stdout",
     "output_type": "stream",
     "text": [
      "events cluster count : 5\n",
      "(3131, 10) (9, 10) (3140, 10)\n",
      "Event with polygon percentage is 99.71337579617834 %\n"
     ]
    }
   ],
   "execution_count": 4
  },
  {
   "metadata": {
    "ExecuteTime": {
     "end_time": "2024-11-15T14:10:04.420792Z",
     "start_time": "2024-11-15T14:10:01.861700Z"
    }
   },
   "cell_type": "code",
   "source": [
    "# get departure & destination dock pairs\n",
    "from core.ShoreNet.analyze.departure_destination_docks import map_dock_pairs\n",
    "event_dd_df = map_dock_pairs(with_polygon_dbscan_df)\n",
    "event_dd_df.describe()"
   ],
   "id": "b81db40f1cfd344b",
   "outputs": [
    {
     "data": {
      "text/plain": [
       "               mmsi  departure_dock_id  departure_lng  departure_lat  \\\n",
       "count  2.050000e+02         205.000000     205.000000     205.000000   \n",
       "mean   4.138414e+08         247.521951     120.764283      31.736671   \n",
       "std    6.070655e+04          62.140778       0.569488       0.201620   \n",
       "min    4.135928e+08         194.000000     120.135000      31.348600   \n",
       "25%    4.138030e+08         194.000000     120.141000      31.680500   \n",
       "50%    4.138303e+08         246.000000     121.139000      31.697000   \n",
       "75%    4.138603e+08         246.000000     121.171000      31.919800   \n",
       "max    4.139988e+08         376.000000     121.525000      31.925800   \n",
       "\n",
       "       destination_dock_id  destination_lng  destination_lat  sail_duration  \n",
       "count           205.000000       205.000000       205.000000   2.050000e+02  \n",
       "mean            235.346341       120.737195        31.760156   7.964337e+06  \n",
       "std              52.557178         0.543785         0.174437   6.492552e+06  \n",
       "min             194.000000       120.135000        31.348500   4.505200e+04  \n",
       "25%             194.000000       120.163000        31.681000   2.555702e+06  \n",
       "50%             246.000000       121.139000        31.696900   6.326833e+06  \n",
       "75%             246.000000       121.170000        31.920100   1.172564e+07  \n",
       "max             376.000000       121.525000        31.925800   2.652905e+07  "
      ],
      "text/html": [
       "<div>\n",
       "<style scoped>\n",
       "    .dataframe tbody tr th:only-of-type {\n",
       "        vertical-align: middle;\n",
       "    }\n",
       "\n",
       "    .dataframe tbody tr th {\n",
       "        vertical-align: top;\n",
       "    }\n",
       "\n",
       "    .dataframe thead th {\n",
       "        text-align: right;\n",
       "    }\n",
       "</style>\n",
       "<table border=\"1\" class=\"dataframe\">\n",
       "  <thead>\n",
       "    <tr style=\"text-align: right;\">\n",
       "      <th></th>\n",
       "      <th>mmsi</th>\n",
       "      <th>departure_dock_id</th>\n",
       "      <th>departure_lng</th>\n",
       "      <th>departure_lat</th>\n",
       "      <th>destination_dock_id</th>\n",
       "      <th>destination_lng</th>\n",
       "      <th>destination_lat</th>\n",
       "      <th>sail_duration</th>\n",
       "    </tr>\n",
       "  </thead>\n",
       "  <tbody>\n",
       "    <tr>\n",
       "      <th>count</th>\n",
       "      <td>2.050000e+02</td>\n",
       "      <td>205.000000</td>\n",
       "      <td>205.000000</td>\n",
       "      <td>205.000000</td>\n",
       "      <td>205.000000</td>\n",
       "      <td>205.000000</td>\n",
       "      <td>205.000000</td>\n",
       "      <td>2.050000e+02</td>\n",
       "    </tr>\n",
       "    <tr>\n",
       "      <th>mean</th>\n",
       "      <td>4.138414e+08</td>\n",
       "      <td>247.521951</td>\n",
       "      <td>120.764283</td>\n",
       "      <td>31.736671</td>\n",
       "      <td>235.346341</td>\n",
       "      <td>120.737195</td>\n",
       "      <td>31.760156</td>\n",
       "      <td>7.964337e+06</td>\n",
       "    </tr>\n",
       "    <tr>\n",
       "      <th>std</th>\n",
       "      <td>6.070655e+04</td>\n",
       "      <td>62.140778</td>\n",
       "      <td>0.569488</td>\n",
       "      <td>0.201620</td>\n",
       "      <td>52.557178</td>\n",
       "      <td>0.543785</td>\n",
       "      <td>0.174437</td>\n",
       "      <td>6.492552e+06</td>\n",
       "    </tr>\n",
       "    <tr>\n",
       "      <th>min</th>\n",
       "      <td>4.135928e+08</td>\n",
       "      <td>194.000000</td>\n",
       "      <td>120.135000</td>\n",
       "      <td>31.348600</td>\n",
       "      <td>194.000000</td>\n",
       "      <td>120.135000</td>\n",
       "      <td>31.348500</td>\n",
       "      <td>4.505200e+04</td>\n",
       "    </tr>\n",
       "    <tr>\n",
       "      <th>25%</th>\n",
       "      <td>4.138030e+08</td>\n",
       "      <td>194.000000</td>\n",
       "      <td>120.141000</td>\n",
       "      <td>31.680500</td>\n",
       "      <td>194.000000</td>\n",
       "      <td>120.163000</td>\n",
       "      <td>31.681000</td>\n",
       "      <td>2.555702e+06</td>\n",
       "    </tr>\n",
       "    <tr>\n",
       "      <th>50%</th>\n",
       "      <td>4.138303e+08</td>\n",
       "      <td>246.000000</td>\n",
       "      <td>121.139000</td>\n",
       "      <td>31.697000</td>\n",
       "      <td>246.000000</td>\n",
       "      <td>121.139000</td>\n",
       "      <td>31.696900</td>\n",
       "      <td>6.326833e+06</td>\n",
       "    </tr>\n",
       "    <tr>\n",
       "      <th>75%</th>\n",
       "      <td>4.138603e+08</td>\n",
       "      <td>246.000000</td>\n",
       "      <td>121.171000</td>\n",
       "      <td>31.919800</td>\n",
       "      <td>246.000000</td>\n",
       "      <td>121.170000</td>\n",
       "      <td>31.920100</td>\n",
       "      <td>1.172564e+07</td>\n",
       "    </tr>\n",
       "    <tr>\n",
       "      <th>max</th>\n",
       "      <td>4.139988e+08</td>\n",
       "      <td>376.000000</td>\n",
       "      <td>121.525000</td>\n",
       "      <td>31.925800</td>\n",
       "      <td>376.000000</td>\n",
       "      <td>121.525000</td>\n",
       "      <td>31.925800</td>\n",
       "      <td>2.652905e+07</td>\n",
       "    </tr>\n",
       "  </tbody>\n",
       "</table>\n",
       "</div>"
      ]
     },
     "execution_count": 5,
     "metadata": {},
     "output_type": "execute_result"
    }
   ],
   "execution_count": 5
  }
 ],
 "metadata": {
  "kernelspec": {
   "display_name": "Python 3 (ipykernel)",
   "language": "python",
   "name": "python3"
  },
  "language_info": {
   "codemirror_mode": {
    "name": "ipython",
    "version": 3
   },
   "file_extension": ".py",
   "mimetype": "text/x-python",
   "name": "python",
   "nbconvert_exporter": "python",
   "pygments_lexer": "ipython3",
   "version": "3.11.9"
  }
 },
 "nbformat": 4,
 "nbformat_minor": 5
}
